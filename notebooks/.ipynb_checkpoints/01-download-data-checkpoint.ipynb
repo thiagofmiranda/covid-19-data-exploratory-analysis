{
 "cells": [
  {
   "cell_type": "markdown",
   "id": "8d8d788a-6e97-4790-bf92-d8308cf7c0c3",
   "metadata": {},
   "source": [
    "# Downloading data notebook\n",
    "\n",
    "---\n",
    "\n",
    "## Introduction\n",
    "\n",
    "This notebook aims to download, process, and store data related to the COVID-19 pandemic.\n",
    "\n",
    "The main topics covered in this notebook include:\n",
    "\n",
    "### 1. Environment Setup\n",
    "   - Required packages and initial setup.\n",
    "\n",
    "### 2. Data Loading\n",
    "   - Downloading data\n",
    "   - Importing the downloaded data.\n",
    "   - Procedure for downloading the data and saving it locally.\n",
    "\n",
    "### 3. Data Cleaning and Transformation\n",
    "   - Handling missing values and formatting columns.\n",
    "   - Creating new variables or modifying existing ones.\n",
    "\n",
    "### 4. Saving the Processed Data\n",
    "   - Saving the transformed data in a suitable format for future use.\n",
    "\n",
    "### 5. Next Steps\n",
    "   - Suggestions for future analyses.\n"
   ]
  },
  {
   "cell_type": "markdown",
   "id": "60554eb2-12eb-44e6-b477-2f0e046eaad8",
   "metadata": {},
   "source": [
    "### 1. Environment Setup"
   ]
  },
  {
   "cell_type": "code",
   "execution_count": 2,
   "id": "f3869d7a-89db-4dba-a825-11a544d9d154",
   "metadata": {},
   "outputs": [
    {
     "name": "stderr",
     "output_type": "stream",
     "text": [
      "── \u001b[1mAttaching core tidyverse packages\u001b[22m ──────────────────────────────────────────────────────────────── tidyverse 2.0.0 ──\n",
      "\u001b[32m✔\u001b[39m \u001b[34mdplyr    \u001b[39m 1.1.4     \u001b[32m✔\u001b[39m \u001b[34mreadr    \u001b[39m 2.1.5\n",
      "\u001b[32m✔\u001b[39m \u001b[34mforcats  \u001b[39m 1.0.0     \u001b[32m✔\u001b[39m \u001b[34mstringr  \u001b[39m 1.5.1\n",
      "\u001b[32m✔\u001b[39m \u001b[34mggplot2  \u001b[39m 3.5.1     \u001b[32m✔\u001b[39m \u001b[34mtibble   \u001b[39m 3.2.1\n",
      "\u001b[32m✔\u001b[39m \u001b[34mlubridate\u001b[39m 1.9.3     \u001b[32m✔\u001b[39m \u001b[34mtidyr    \u001b[39m 1.3.1\n",
      "\u001b[32m✔\u001b[39m \u001b[34mpurrr    \u001b[39m 1.0.2     \n",
      "── \u001b[1mConflicts\u001b[22m ────────────────────────────────────────────────────────────────────────────────── tidyverse_conflicts() ──\n",
      "\u001b[31m✖\u001b[39m \u001b[34mdplyr\u001b[39m::\u001b[32mfilter()\u001b[39m masks \u001b[34mstats\u001b[39m::filter()\n",
      "\u001b[31m✖\u001b[39m \u001b[34mdplyr\u001b[39m::\u001b[32mlag()\u001b[39m    masks \u001b[34mstats\u001b[39m::lag()\n",
      "\u001b[36mℹ\u001b[39m Use the conflicted package (\u001b[3m\u001b[34m<http://conflicted.r-lib.org/>\u001b[39m\u001b[23m) to force all conflicts to become errors\n",
      "Warning message:\n",
      "\"pacote 'arrow' foi compilado no R versão 4.4.1\"\n",
      "\n",
      "Anexando pacote: 'arrow'\n",
      "\n",
      "\n",
      "O seguinte objeto é mascarado por 'package:lubridate':\n",
      "\n",
      "    duration\n",
      "\n",
      "\n",
      "O seguinte objeto é mascarado por 'package:utils':\n",
      "\n",
      "    timestamp\n",
      "\n",
      "\n",
      "Warning message:\n",
      "\"pacote 'tidygeocoder' foi compilado no R versão 4.4.1\"\n"
     ]
    }
   ],
   "source": [
    "# Loading packages\n",
    "library(tidyverse)\n",
    "library(arrow)\n",
    "library(tidygeocoder)"
   ]
  },
  {
   "cell_type": "markdown",
   "id": "1494ec18-488a-4afa-ba73-72d8f1003898",
   "metadata": {},
   "source": [
    "### 2. Data Loading\n",
    "\n",
    "**About the Dataset:**\n",
    "\n",
    "This dataset provides daily time series data of COVID-19, capturing the confirmed, recovered, and death cases across various countries worldwide. The dataset includes the following columns:\n",
    "\n",
    "- **Date**: Ranges from 22/01/2020 to the present day.\n",
    "- **Country/Region**: The affected countries by COVID-19.\n",
    "- **Province/State**: Specific states or provinces within the country (if available).\n",
    "- **Lat**: Latitude of the country or region.\n",
    "- **Long**: Longitude of the country or region.\n",
    "- **Confirmed**: The total number of confirmed COVID-19 cases per day.\n",
    "- **Recovered**: The total number of recovered cases per day.\n",
    "- **Deaths**: The total number of deaths per day.\n",
    "\n",
    "**Original Data Source**: [COVID-19 Time Series Data](https://raw.githubusercontent.com/datasets/covid-19/master/data/time-series-19-covid-combined.csv)"
   ]
  },
  {
   "cell_type": "code",
   "execution_count": 4,
   "id": "60098eef-634c-4097-87ca-2bd7f1019220",
   "metadata": {},
   "outputs": [
    {
     "name": "stderr",
     "output_type": "stream",
     "text": [
      "\u001b[1mRows: \u001b[22m\u001b[34m231744\u001b[39m \u001b[1mColumns: \u001b[22m\u001b[34m6\u001b[39m\n",
      "\u001b[36m──\u001b[39m \u001b[1mColumn specification\u001b[22m \u001b[36m────────────────────────────────────────────────────────────────────────────────────────────────\u001b[39m\n",
      "\u001b[1mDelimiter:\u001b[22m \",\"\n",
      "\u001b[31mchr\u001b[39m  (2): Country/Region, Province/State\n",
      "\u001b[32mdbl\u001b[39m  (3): Confirmed, Recovered, Deaths\n",
      "\u001b[34mdate\u001b[39m (1): Date\n",
      "\n",
      "\u001b[36mℹ\u001b[39m Use `spec()` to retrieve the full column specification for this data.\n",
      "\u001b[36mℹ\u001b[39m Specify the column types or set `show_col_types = FALSE` to quiet this message.\n"
     ]
    }
   ],
   "source": [
    "# Importing COVID-19 from web\n",
    "file_names <- \"https://raw.githubusercontent.com/datasets/covid-19/master/data/time-series-19-covid-combined.csv\"\n",
    "covid_data <- read_csv(file_names)"
   ]
  },
  {
   "cell_type": "code",
   "execution_count": 5,
   "id": "bccb81f3-be3b-45e2-b310-743db5e9aa19",
   "metadata": {},
   "outputs": [],
   "source": [
    "# Saving raw data\n",
    "write_csv_dataset(dataset = covid_data,path = \"../data/raw/covid\",basename_template = \"covid-19-{i}.csv\")"
   ]
  },
  {
   "cell_type": "code",
   "execution_count": 6,
   "id": "1681a7bb-77f8-42eb-a1e2-a08cf071f636",
   "metadata": {},
   "outputs": [
    {
     "data": {
      "text/html": [
       "<style>\n",
       ".list-inline {list-style: none; margin:0; padding: 0}\n",
       ".list-inline>li {display: inline-block}\n",
       ".list-inline>li:not(:last-child)::after {content: \"\\00b7\"; padding: 0 .5ex}\n",
       "</style>\n",
       "<ol class=list-inline><li>231744</li><li>6</li></ol>\n"
      ],
      "text/latex": [
       "\\begin{enumerate*}\n",
       "\\item 231744\n",
       "\\item 6\n",
       "\\end{enumerate*}\n"
      ],
      "text/markdown": [
       "1. 231744\n",
       "2. 6\n",
       "\n",
       "\n"
      ],
      "text/plain": [
       "[1] 231744      6"
      ]
     },
     "metadata": {},
     "output_type": "display_data"
    }
   ],
   "source": [
    "dim(covid_data)"
   ]
  },
  {
   "cell_type": "code",
   "execution_count": 7,
   "id": "84c7264e-8bd2-4fb6-81e6-0f1b1fb83649",
   "metadata": {},
   "outputs": [
    {
     "data": {
      "text/html": [
       "<table class=\"dataframe\">\n",
       "<caption>A tibble: 6 × 6</caption>\n",
       "<thead>\n",
       "\t<tr><th scope=col>Date</th><th scope=col>Country/Region</th><th scope=col>Province/State</th><th scope=col>Confirmed</th><th scope=col>Recovered</th><th scope=col>Deaths</th></tr>\n",
       "\t<tr><th scope=col>&lt;date&gt;</th><th scope=col>&lt;chr&gt;</th><th scope=col>&lt;chr&gt;</th><th scope=col>&lt;dbl&gt;</th><th scope=col>&lt;dbl&gt;</th><th scope=col>&lt;dbl&gt;</th></tr>\n",
       "</thead>\n",
       "<tbody>\n",
       "\t<tr><td>2020-01-22</td><td>Afghanistan</td><td>NA</td><td>0</td><td>0</td><td>0</td></tr>\n",
       "\t<tr><td>2020-01-23</td><td>Afghanistan</td><td>NA</td><td>0</td><td>0</td><td>0</td></tr>\n",
       "\t<tr><td>2020-01-24</td><td>Afghanistan</td><td>NA</td><td>0</td><td>0</td><td>0</td></tr>\n",
       "\t<tr><td>2020-01-25</td><td>Afghanistan</td><td>NA</td><td>0</td><td>0</td><td>0</td></tr>\n",
       "\t<tr><td>2020-01-26</td><td>Afghanistan</td><td>NA</td><td>0</td><td>0</td><td>0</td></tr>\n",
       "\t<tr><td>2020-01-27</td><td>Afghanistan</td><td>NA</td><td>0</td><td>0</td><td>0</td></tr>\n",
       "</tbody>\n",
       "</table>\n"
      ],
      "text/latex": [
       "A tibble: 6 × 6\n",
       "\\begin{tabular}{llllll}\n",
       " Date & Country/Region & Province/State & Confirmed & Recovered & Deaths\\\\\n",
       " <date> & <chr> & <chr> & <dbl> & <dbl> & <dbl>\\\\\n",
       "\\hline\n",
       "\t 2020-01-22 & Afghanistan & NA & 0 & 0 & 0\\\\\n",
       "\t 2020-01-23 & Afghanistan & NA & 0 & 0 & 0\\\\\n",
       "\t 2020-01-24 & Afghanistan & NA & 0 & 0 & 0\\\\\n",
       "\t 2020-01-25 & Afghanistan & NA & 0 & 0 & 0\\\\\n",
       "\t 2020-01-26 & Afghanistan & NA & 0 & 0 & 0\\\\\n",
       "\t 2020-01-27 & Afghanistan & NA & 0 & 0 & 0\\\\\n",
       "\\end{tabular}\n"
      ],
      "text/markdown": [
       "\n",
       "A tibble: 6 × 6\n",
       "\n",
       "| Date &lt;date&gt; | Country/Region &lt;chr&gt; | Province/State &lt;chr&gt; | Confirmed &lt;dbl&gt; | Recovered &lt;dbl&gt; | Deaths &lt;dbl&gt; |\n",
       "|---|---|---|---|---|---|\n",
       "| 2020-01-22 | Afghanistan | NA | 0 | 0 | 0 |\n",
       "| 2020-01-23 | Afghanistan | NA | 0 | 0 | 0 |\n",
       "| 2020-01-24 | Afghanistan | NA | 0 | 0 | 0 |\n",
       "| 2020-01-25 | Afghanistan | NA | 0 | 0 | 0 |\n",
       "| 2020-01-26 | Afghanistan | NA | 0 | 0 | 0 |\n",
       "| 2020-01-27 | Afghanistan | NA | 0 | 0 | 0 |\n",
       "\n"
      ],
      "text/plain": [
       "  Date       Country/Region Province/State Confirmed Recovered Deaths\n",
       "1 2020-01-22 Afghanistan    NA             0         0         0     \n",
       "2 2020-01-23 Afghanistan    NA             0         0         0     \n",
       "3 2020-01-24 Afghanistan    NA             0         0         0     \n",
       "4 2020-01-25 Afghanistan    NA             0         0         0     \n",
       "5 2020-01-26 Afghanistan    NA             0         0         0     \n",
       "6 2020-01-27 Afghanistan    NA             0         0         0     "
      ]
     },
     "metadata": {},
     "output_type": "display_data"
    }
   ],
   "source": [
    "head(covid_data)"
   ]
  },
  {
   "cell_type": "markdown",
   "id": "c60e4fd4-7e88-47d8-8b6d-6587479e306a",
   "metadata": {},
   "source": [
    "### 3. Data Cleaning and Transformation"
   ]
  },
  {
   "cell_type": "code",
   "execution_count": 9,
   "id": "859f9f1c-e8fc-4a57-8edf-65a37a7ac2fb",
   "metadata": {},
   "outputs": [
    {
     "data": {
      "text/html": [
       "<table class=\"dataframe\">\n",
       "<caption>A tibble: 6 × 6</caption>\n",
       "<thead>\n",
       "\t<tr><th scope=col>date</th><th scope=col>country_region</th><th scope=col>province_state</th><th scope=col>confirmed</th><th scope=col>recovered</th><th scope=col>deaths</th></tr>\n",
       "\t<tr><th scope=col>&lt;date&gt;</th><th scope=col>&lt;chr&gt;</th><th scope=col>&lt;chr&gt;</th><th scope=col>&lt;dbl&gt;</th><th scope=col>&lt;dbl&gt;</th><th scope=col>&lt;dbl&gt;</th></tr>\n",
       "</thead>\n",
       "<tbody>\n",
       "\t<tr><td>2020-01-22</td><td>Afghanistan</td><td>NA</td><td>0</td><td>0</td><td>0</td></tr>\n",
       "\t<tr><td>2020-01-23</td><td>Afghanistan</td><td>NA</td><td>0</td><td>0</td><td>0</td></tr>\n",
       "\t<tr><td>2020-01-24</td><td>Afghanistan</td><td>NA</td><td>0</td><td>0</td><td>0</td></tr>\n",
       "\t<tr><td>2020-01-25</td><td>Afghanistan</td><td>NA</td><td>0</td><td>0</td><td>0</td></tr>\n",
       "\t<tr><td>2020-01-26</td><td>Afghanistan</td><td>NA</td><td>0</td><td>0</td><td>0</td></tr>\n",
       "\t<tr><td>2020-01-27</td><td>Afghanistan</td><td>NA</td><td>0</td><td>0</td><td>0</td></tr>\n",
       "</tbody>\n",
       "</table>\n"
      ],
      "text/latex": [
       "A tibble: 6 × 6\n",
       "\\begin{tabular}{llllll}\n",
       " date & country\\_region & province\\_state & confirmed & recovered & deaths\\\\\n",
       " <date> & <chr> & <chr> & <dbl> & <dbl> & <dbl>\\\\\n",
       "\\hline\n",
       "\t 2020-01-22 & Afghanistan & NA & 0 & 0 & 0\\\\\n",
       "\t 2020-01-23 & Afghanistan & NA & 0 & 0 & 0\\\\\n",
       "\t 2020-01-24 & Afghanistan & NA & 0 & 0 & 0\\\\\n",
       "\t 2020-01-25 & Afghanistan & NA & 0 & 0 & 0\\\\\n",
       "\t 2020-01-26 & Afghanistan & NA & 0 & 0 & 0\\\\\n",
       "\t 2020-01-27 & Afghanistan & NA & 0 & 0 & 0\\\\\n",
       "\\end{tabular}\n"
      ],
      "text/markdown": [
       "\n",
       "A tibble: 6 × 6\n",
       "\n",
       "| date &lt;date&gt; | country_region &lt;chr&gt; | province_state &lt;chr&gt; | confirmed &lt;dbl&gt; | recovered &lt;dbl&gt; | deaths &lt;dbl&gt; |\n",
       "|---|---|---|---|---|---|\n",
       "| 2020-01-22 | Afghanistan | NA | 0 | 0 | 0 |\n",
       "| 2020-01-23 | Afghanistan | NA | 0 | 0 | 0 |\n",
       "| 2020-01-24 | Afghanistan | NA | 0 | 0 | 0 |\n",
       "| 2020-01-25 | Afghanistan | NA | 0 | 0 | 0 |\n",
       "| 2020-01-26 | Afghanistan | NA | 0 | 0 | 0 |\n",
       "| 2020-01-27 | Afghanistan | NA | 0 | 0 | 0 |\n",
       "\n"
      ],
      "text/plain": [
       "  date       country_region province_state confirmed recovered deaths\n",
       "1 2020-01-22 Afghanistan    NA             0         0         0     \n",
       "2 2020-01-23 Afghanistan    NA             0         0         0     \n",
       "3 2020-01-24 Afghanistan    NA             0         0         0     \n",
       "4 2020-01-25 Afghanistan    NA             0         0         0     \n",
       "5 2020-01-26 Afghanistan    NA             0         0         0     \n",
       "6 2020-01-27 Afghanistan    NA             0         0         0     "
      ]
     },
     "metadata": {},
     "output_type": "display_data"
    }
   ],
   "source": [
    "# Renaming cols\n",
    "colnames(covid_data) <- c(\"date\",\"country_region\",\"province_state\",\"confirmed\",\"recovered\",\"deaths\")\n",
    "head(covid_data)"
   ]
  },
  {
   "cell_type": "code",
   "execution_count": 10,
   "id": "a626ae27-5f88-4629-a4b8-a7f7aee7da44",
   "metadata": {
    "editable": true,
    "slideshow": {
     "slide_type": ""
    },
    "tags": []
   },
   "outputs": [
    {
     "name": "stderr",
     "output_type": "stream",
     "text": [
      "\u001b[1m\u001b[22m`summarise()` has grouped output by 'date'. You can override using the `.groups` argument.\n"
     ]
    },
    {
     "data": {
      "text/html": [
       "<table class=\"dataframe\">\n",
       "<caption>A tibble: 6 × 5</caption>\n",
       "<thead>\n",
       "\t<tr><th scope=col>date</th><th scope=col>country_region</th><th scope=col>confirmed</th><th scope=col>recovered</th><th scope=col>deaths</th></tr>\n",
       "\t<tr><th scope=col>&lt;date&gt;</th><th scope=col>&lt;chr&gt;</th><th scope=col>&lt;dbl&gt;</th><th scope=col>&lt;dbl&gt;</th><th scope=col>&lt;dbl&gt;</th></tr>\n",
       "</thead>\n",
       "<tbody>\n",
       "\t<tr><td>2020-01-22</td><td>Afghanistan</td><td>0</td><td>0</td><td>0</td></tr>\n",
       "\t<tr><td>2020-01-22</td><td>Albania    </td><td>0</td><td>0</td><td>0</td></tr>\n",
       "\t<tr><td>2020-01-22</td><td>Algeria    </td><td>0</td><td>0</td><td>0</td></tr>\n",
       "\t<tr><td>2020-01-22</td><td>Andorra    </td><td>0</td><td>0</td><td>0</td></tr>\n",
       "\t<tr><td>2020-01-22</td><td>Angola     </td><td>0</td><td>0</td><td>0</td></tr>\n",
       "\t<tr><td>2020-01-22</td><td>Antarctica </td><td>0</td><td>0</td><td>0</td></tr>\n",
       "</tbody>\n",
       "</table>\n"
      ],
      "text/latex": [
       "A tibble: 6 × 5\n",
       "\\begin{tabular}{lllll}\n",
       " date & country\\_region & confirmed & recovered & deaths\\\\\n",
       " <date> & <chr> & <dbl> & <dbl> & <dbl>\\\\\n",
       "\\hline\n",
       "\t 2020-01-22 & Afghanistan & 0 & 0 & 0\\\\\n",
       "\t 2020-01-22 & Albania     & 0 & 0 & 0\\\\\n",
       "\t 2020-01-22 & Algeria     & 0 & 0 & 0\\\\\n",
       "\t 2020-01-22 & Andorra     & 0 & 0 & 0\\\\\n",
       "\t 2020-01-22 & Angola      & 0 & 0 & 0\\\\\n",
       "\t 2020-01-22 & Antarctica  & 0 & 0 & 0\\\\\n",
       "\\end{tabular}\n"
      ],
      "text/markdown": [
       "\n",
       "A tibble: 6 × 5\n",
       "\n",
       "| date &lt;date&gt; | country_region &lt;chr&gt; | confirmed &lt;dbl&gt; | recovered &lt;dbl&gt; | deaths &lt;dbl&gt; |\n",
       "|---|---|---|---|---|\n",
       "| 2020-01-22 | Afghanistan | 0 | 0 | 0 |\n",
       "| 2020-01-22 | Albania     | 0 | 0 | 0 |\n",
       "| 2020-01-22 | Algeria     | 0 | 0 | 0 |\n",
       "| 2020-01-22 | Andorra     | 0 | 0 | 0 |\n",
       "| 2020-01-22 | Angola      | 0 | 0 | 0 |\n",
       "| 2020-01-22 | Antarctica  | 0 | 0 | 0 |\n",
       "\n"
      ],
      "text/plain": [
       "  date       country_region confirmed recovered deaths\n",
       "1 2020-01-22 Afghanistan    0         0         0     \n",
       "2 2020-01-22 Albania        0         0         0     \n",
       "3 2020-01-22 Algeria        0         0         0     \n",
       "4 2020-01-22 Andorra        0         0         0     \n",
       "5 2020-01-22 Angola         0         0         0     \n",
       "6 2020-01-22 Antarctica     0         0         0     "
      ]
     },
     "metadata": {},
     "output_type": "display_data"
    }
   ],
   "source": [
    "# the data points are accumulated by Province/State in some countries\n",
    "# Lets create a dataset only by countries\n",
    "covid_by_country_region <- covid_data |> \n",
    "    group_by(date,country_region) |>\n",
    "    summarise(\n",
    "        confirmed = sum(confirmed),\n",
    "        recovered = sum(recovered),\n",
    "        deaths = sum(deaths)\n",
    "    ) |> \n",
    "    ungroup()\n",
    "\n",
    "head(covid_by_country_region)"
   ]
  },
  {
   "cell_type": "code",
   "execution_count": 11,
   "id": "572d6517-00ee-4f45-a994-92ac57127329",
   "metadata": {},
   "outputs": [
    {
     "data": {
      "text/html": [
       "161568"
      ],
      "text/latex": [
       "161568"
      ],
      "text/markdown": [
       "161568"
      ],
      "text/plain": [
       "[1] 161568"
      ]
     },
     "metadata": {},
     "output_type": "display_data"
    },
    {
     "data": {
      "text/html": [
       "161568"
      ],
      "text/latex": [
       "161568"
      ],
      "text/markdown": [
       "161568"
      ],
      "text/plain": [
       "[1] 161568"
      ]
     },
     "metadata": {},
     "output_type": "display_data"
    }
   ],
   "source": [
    "# Lets create the daily data points\n",
    "\n",
    "# First, are the data points completed? \n",
    "# Lets check the total for each day and count\n",
    "\n",
    "length(unique(covid_by_country_region$date)) * length(unique(covid_by_country_region$country_region))\n",
    "nrow(covid_by_country_region)\n",
    "\n",
    "# Yes, the data is completed"
   ]
  },
  {
   "cell_type": "code",
   "execution_count": 12,
   "id": "2db81338-b0cf-40bb-aa8e-8399329a797f",
   "metadata": {},
   "outputs": [
    {
     "data": {
      "text/html": [
       "<table class=\"dataframe\">\n",
       "<caption>A tibble: 6 × 8</caption>\n",
       "<thead>\n",
       "\t<tr><th scope=col>date</th><th scope=col>country_region</th><th scope=col>confirmed</th><th scope=col>recovered</th><th scope=col>deaths</th><th scope=col>daily_confirmed</th><th scope=col>daily_recovered</th><th scope=col>daily_deaths</th></tr>\n",
       "\t<tr><th scope=col>&lt;date&gt;</th><th scope=col>&lt;chr&gt;</th><th scope=col>&lt;dbl&gt;</th><th scope=col>&lt;dbl&gt;</th><th scope=col>&lt;dbl&gt;</th><th scope=col>&lt;dbl&gt;</th><th scope=col>&lt;dbl&gt;</th><th scope=col>&lt;dbl&gt;</th></tr>\n",
       "</thead>\n",
       "<tbody>\n",
       "\t<tr><td>2020-01-22</td><td>Afghanistan</td><td>0</td><td>0</td><td>0</td><td>0</td><td>0</td><td>0</td></tr>\n",
       "\t<tr><td>2020-01-23</td><td>Afghanistan</td><td>0</td><td>0</td><td>0</td><td>0</td><td>0</td><td>0</td></tr>\n",
       "\t<tr><td>2020-01-24</td><td>Afghanistan</td><td>0</td><td>0</td><td>0</td><td>0</td><td>0</td><td>0</td></tr>\n",
       "\t<tr><td>2020-01-25</td><td>Afghanistan</td><td>0</td><td>0</td><td>0</td><td>0</td><td>0</td><td>0</td></tr>\n",
       "\t<tr><td>2020-01-26</td><td>Afghanistan</td><td>0</td><td>0</td><td>0</td><td>0</td><td>0</td><td>0</td></tr>\n",
       "\t<tr><td>2020-01-27</td><td>Afghanistan</td><td>0</td><td>0</td><td>0</td><td>0</td><td>0</td><td>0</td></tr>\n",
       "</tbody>\n",
       "</table>\n"
      ],
      "text/latex": [
       "A tibble: 6 × 8\n",
       "\\begin{tabular}{llllllll}\n",
       " date & country\\_region & confirmed & recovered & deaths & daily\\_confirmed & daily\\_recovered & daily\\_deaths\\\\\n",
       " <date> & <chr> & <dbl> & <dbl> & <dbl> & <dbl> & <dbl> & <dbl>\\\\\n",
       "\\hline\n",
       "\t 2020-01-22 & Afghanistan & 0 & 0 & 0 & 0 & 0 & 0\\\\\n",
       "\t 2020-01-23 & Afghanistan & 0 & 0 & 0 & 0 & 0 & 0\\\\\n",
       "\t 2020-01-24 & Afghanistan & 0 & 0 & 0 & 0 & 0 & 0\\\\\n",
       "\t 2020-01-25 & Afghanistan & 0 & 0 & 0 & 0 & 0 & 0\\\\\n",
       "\t 2020-01-26 & Afghanistan & 0 & 0 & 0 & 0 & 0 & 0\\\\\n",
       "\t 2020-01-27 & Afghanistan & 0 & 0 & 0 & 0 & 0 & 0\\\\\n",
       "\\end{tabular}\n"
      ],
      "text/markdown": [
       "\n",
       "A tibble: 6 × 8\n",
       "\n",
       "| date &lt;date&gt; | country_region &lt;chr&gt; | confirmed &lt;dbl&gt; | recovered &lt;dbl&gt; | deaths &lt;dbl&gt; | daily_confirmed &lt;dbl&gt; | daily_recovered &lt;dbl&gt; | daily_deaths &lt;dbl&gt; |\n",
       "|---|---|---|---|---|---|---|---|\n",
       "| 2020-01-22 | Afghanistan | 0 | 0 | 0 | 0 | 0 | 0 |\n",
       "| 2020-01-23 | Afghanistan | 0 | 0 | 0 | 0 | 0 | 0 |\n",
       "| 2020-01-24 | Afghanistan | 0 | 0 | 0 | 0 | 0 | 0 |\n",
       "| 2020-01-25 | Afghanistan | 0 | 0 | 0 | 0 | 0 | 0 |\n",
       "| 2020-01-26 | Afghanistan | 0 | 0 | 0 | 0 | 0 | 0 |\n",
       "| 2020-01-27 | Afghanistan | 0 | 0 | 0 | 0 | 0 | 0 |\n",
       "\n"
      ],
      "text/plain": [
       "  date       country_region confirmed recovered deaths daily_confirmed\n",
       "1 2020-01-22 Afghanistan    0         0         0      0              \n",
       "2 2020-01-23 Afghanistan    0         0         0      0              \n",
       "3 2020-01-24 Afghanistan    0         0         0      0              \n",
       "4 2020-01-25 Afghanistan    0         0         0      0              \n",
       "5 2020-01-26 Afghanistan    0         0         0      0              \n",
       "6 2020-01-27 Afghanistan    0         0         0      0              \n",
       "  daily_recovered daily_deaths\n",
       "1 0               0           \n",
       "2 0               0           \n",
       "3 0               0           \n",
       "4 0               0           \n",
       "5 0               0           \n",
       "6 0               0           "
      ]
     },
     "metadata": {},
     "output_type": "display_data"
    }
   ],
   "source": [
    "# Lets create the daily data points based on the cummulative confirmed cases\n",
    "covid_by_country_region <- covid_by_country_region |> \n",
    "    arrange(country_region,date) |>\n",
    "    group_by(country_region) |>\n",
    "    mutate(daily_confirmed = c(first(confirmed),diff(confirmed))) |> \n",
    "    mutate(daily_recovered = c(first(recovered),diff(recovered))) |> \n",
    "    mutate(daily_deaths = c(first(deaths),diff(deaths))) |> \n",
    "    ungroup()\n",
    "\n",
    "head(covid_by_country_region)"
   ]
  },
  {
   "cell_type": "code",
   "execution_count": 13,
   "id": "8bc5b32c-6b7e-45f4-a0ef-0ec9597cad64",
   "metadata": {},
   "outputs": [
    {
     "data": {
      "text/html": [
       "<table class=\"dataframe\">\n",
       "<caption>A tibble: 6 × 11</caption>\n",
       "<thead>\n",
       "\t<tr><th scope=col>date</th><th scope=col>country_region</th><th scope=col>confirmed</th><th scope=col>recovered</th><th scope=col>deaths</th><th scope=col>daily_confirmed</th><th scope=col>daily_recovered</th><th scope=col>daily_deaths</th><th scope=col>year</th><th scope=col>month</th><th scope=col>day</th></tr>\n",
       "\t<tr><th scope=col>&lt;date&gt;</th><th scope=col>&lt;chr&gt;</th><th scope=col>&lt;dbl&gt;</th><th scope=col>&lt;dbl&gt;</th><th scope=col>&lt;dbl&gt;</th><th scope=col>&lt;dbl&gt;</th><th scope=col>&lt;dbl&gt;</th><th scope=col>&lt;dbl&gt;</th><th scope=col>&lt;dbl&gt;</th><th scope=col>&lt;dbl&gt;</th><th scope=col>&lt;int&gt;</th></tr>\n",
       "</thead>\n",
       "<tbody>\n",
       "\t<tr><td>2020-01-22</td><td>Afghanistan</td><td>0</td><td>0</td><td>0</td><td>0</td><td>0</td><td>0</td><td>2020</td><td>1</td><td>22</td></tr>\n",
       "\t<tr><td>2020-01-23</td><td>Afghanistan</td><td>0</td><td>0</td><td>0</td><td>0</td><td>0</td><td>0</td><td>2020</td><td>1</td><td>23</td></tr>\n",
       "\t<tr><td>2020-01-24</td><td>Afghanistan</td><td>0</td><td>0</td><td>0</td><td>0</td><td>0</td><td>0</td><td>2020</td><td>1</td><td>24</td></tr>\n",
       "\t<tr><td>2020-01-25</td><td>Afghanistan</td><td>0</td><td>0</td><td>0</td><td>0</td><td>0</td><td>0</td><td>2020</td><td>1</td><td>25</td></tr>\n",
       "\t<tr><td>2020-01-26</td><td>Afghanistan</td><td>0</td><td>0</td><td>0</td><td>0</td><td>0</td><td>0</td><td>2020</td><td>1</td><td>26</td></tr>\n",
       "\t<tr><td>2020-01-27</td><td>Afghanistan</td><td>0</td><td>0</td><td>0</td><td>0</td><td>0</td><td>0</td><td>2020</td><td>1</td><td>27</td></tr>\n",
       "</tbody>\n",
       "</table>\n"
      ],
      "text/latex": [
       "A tibble: 6 × 11\n",
       "\\begin{tabular}{lllllllllll}\n",
       " date & country\\_region & confirmed & recovered & deaths & daily\\_confirmed & daily\\_recovered & daily\\_deaths & year & month & day\\\\\n",
       " <date> & <chr> & <dbl> & <dbl> & <dbl> & <dbl> & <dbl> & <dbl> & <dbl> & <dbl> & <int>\\\\\n",
       "\\hline\n",
       "\t 2020-01-22 & Afghanistan & 0 & 0 & 0 & 0 & 0 & 0 & 2020 & 1 & 22\\\\\n",
       "\t 2020-01-23 & Afghanistan & 0 & 0 & 0 & 0 & 0 & 0 & 2020 & 1 & 23\\\\\n",
       "\t 2020-01-24 & Afghanistan & 0 & 0 & 0 & 0 & 0 & 0 & 2020 & 1 & 24\\\\\n",
       "\t 2020-01-25 & Afghanistan & 0 & 0 & 0 & 0 & 0 & 0 & 2020 & 1 & 25\\\\\n",
       "\t 2020-01-26 & Afghanistan & 0 & 0 & 0 & 0 & 0 & 0 & 2020 & 1 & 26\\\\\n",
       "\t 2020-01-27 & Afghanistan & 0 & 0 & 0 & 0 & 0 & 0 & 2020 & 1 & 27\\\\\n",
       "\\end{tabular}\n"
      ],
      "text/markdown": [
       "\n",
       "A tibble: 6 × 11\n",
       "\n",
       "| date &lt;date&gt; | country_region &lt;chr&gt; | confirmed &lt;dbl&gt; | recovered &lt;dbl&gt; | deaths &lt;dbl&gt; | daily_confirmed &lt;dbl&gt; | daily_recovered &lt;dbl&gt; | daily_deaths &lt;dbl&gt; | year &lt;dbl&gt; | month &lt;dbl&gt; | day &lt;int&gt; |\n",
       "|---|---|---|---|---|---|---|---|---|---|---|\n",
       "| 2020-01-22 | Afghanistan | 0 | 0 | 0 | 0 | 0 | 0 | 2020 | 1 | 22 |\n",
       "| 2020-01-23 | Afghanistan | 0 | 0 | 0 | 0 | 0 | 0 | 2020 | 1 | 23 |\n",
       "| 2020-01-24 | Afghanistan | 0 | 0 | 0 | 0 | 0 | 0 | 2020 | 1 | 24 |\n",
       "| 2020-01-25 | Afghanistan | 0 | 0 | 0 | 0 | 0 | 0 | 2020 | 1 | 25 |\n",
       "| 2020-01-26 | Afghanistan | 0 | 0 | 0 | 0 | 0 | 0 | 2020 | 1 | 26 |\n",
       "| 2020-01-27 | Afghanistan | 0 | 0 | 0 | 0 | 0 | 0 | 2020 | 1 | 27 |\n",
       "\n"
      ],
      "text/plain": [
       "  date       country_region confirmed recovered deaths daily_confirmed\n",
       "1 2020-01-22 Afghanistan    0         0         0      0              \n",
       "2 2020-01-23 Afghanistan    0         0         0      0              \n",
       "3 2020-01-24 Afghanistan    0         0         0      0              \n",
       "4 2020-01-25 Afghanistan    0         0         0      0              \n",
       "5 2020-01-26 Afghanistan    0         0         0      0              \n",
       "6 2020-01-27 Afghanistan    0         0         0      0              \n",
       "  daily_recovered daily_deaths year month day\n",
       "1 0               0            2020 1     22 \n",
       "2 0               0            2020 1     23 \n",
       "3 0               0            2020 1     24 \n",
       "4 0               0            2020 1     25 \n",
       "5 0               0            2020 1     26 \n",
       "6 0               0            2020 1     27 "
      ]
     },
     "metadata": {},
     "output_type": "display_data"
    }
   ],
   "source": [
    "# Now, Lets create the date variable year, month and day \n",
    "covid_by_country_region <- covid_by_country_region |>\n",
    "    mutate(year  = year(date)) |> \n",
    "    mutate(month = month(date)) |> \n",
    "    mutate(day   = day(date))  \n",
    "\n",
    "head(covid_by_country_region)"
   ]
  },
  {
   "cell_type": "code",
   "execution_count": 14,
   "id": "7a770baa-2eb5-4f2c-b1b0-8313d207015f",
   "metadata": {},
   "outputs": [
    {
     "name": "stderr",
     "output_type": "stream",
     "text": [
      "Passing 198 addresses to the Nominatim single address geocoder\n",
      "\n",
      "Query completed in: 201.6 seconds\n",
      "\n"
     ]
    },
    {
     "data": {
      "text/html": [
       "<table class=\"dataframe\">\n",
       "<caption>A tibble: 6 × 3</caption>\n",
       "<thead>\n",
       "\t<tr><th scope=col>country_region</th><th scope=col>latitude</th><th scope=col>longitude</th></tr>\n",
       "\t<tr><th scope=col>&lt;chr&gt;</th><th scope=col>&lt;dbl&gt;</th><th scope=col>&lt;dbl&gt;</th></tr>\n",
       "</thead>\n",
       "<tbody>\n",
       "\t<tr><td>Afghanistan</td><td> 33.76801</td><td>66.238514</td></tr>\n",
       "\t<tr><td>Albania    </td><td> 41.00003</td><td>19.999962</td></tr>\n",
       "\t<tr><td>Algeria    </td><td> 28.00003</td><td> 2.999983</td></tr>\n",
       "\t<tr><td>Andorra    </td><td> 42.54072</td><td> 1.573203</td></tr>\n",
       "\t<tr><td>Angola     </td><td>-11.87758</td><td>17.569124</td></tr>\n",
       "\t<tr><td>Antarctica </td><td>       NA</td><td>       NA</td></tr>\n",
       "</tbody>\n",
       "</table>\n"
      ],
      "text/latex": [
       "A tibble: 6 × 3\n",
       "\\begin{tabular}{lll}\n",
       " country\\_region & latitude & longitude\\\\\n",
       " <chr> & <dbl> & <dbl>\\\\\n",
       "\\hline\n",
       "\t Afghanistan &  33.76801 & 66.238514\\\\\n",
       "\t Albania     &  41.00003 & 19.999962\\\\\n",
       "\t Algeria     &  28.00003 &  2.999983\\\\\n",
       "\t Andorra     &  42.54072 &  1.573203\\\\\n",
       "\t Angola      & -11.87758 & 17.569124\\\\\n",
       "\t Antarctica  &        NA &        NA\\\\\n",
       "\\end{tabular}\n"
      ],
      "text/markdown": [
       "\n",
       "A tibble: 6 × 3\n",
       "\n",
       "| country_region &lt;chr&gt; | latitude &lt;dbl&gt; | longitude &lt;dbl&gt; |\n",
       "|---|---|---|\n",
       "| Afghanistan |  33.76801 | 66.238514 |\n",
       "| Albania     |  41.00003 | 19.999962 |\n",
       "| Algeria     |  28.00003 |  2.999983 |\n",
       "| Andorra     |  42.54072 |  1.573203 |\n",
       "| Angola      | -11.87758 | 17.569124 |\n",
       "| Antarctica  |        NA |        NA |\n",
       "\n"
      ],
      "text/plain": [
       "  country_region latitude  longitude\n",
       "1 Afghanistan     33.76801 66.238514\n",
       "2 Albania         41.00003 19.999962\n",
       "3 Algeria         28.00003  2.999983\n",
       "4 Andorra         42.54072  1.573203\n",
       "5 Angola         -11.87758 17.569124\n",
       "6 Antarctica            NA        NA"
      ]
     },
     "metadata": {},
     "output_type": "display_data"
    }
   ],
   "source": [
    "# Getting the latitude and longitute based on the countries\n",
    "lat_longs <- covid_by_country_region  |> \n",
    "    select(country_region)  |> \n",
    "    unique() |> \n",
    "    geocode(country=country_region, method = 'osm', lat = latitude , long = longitude)\n",
    "head(lat_longs)"
   ]
  },
  {
   "cell_type": "code",
   "execution_count": 15,
   "id": "af2446e9-be55-4b14-9d67-a1e82759daf7",
   "metadata": {},
   "outputs": [
    {
     "data": {
      "text/html": [
       "<table class=\"dataframe\">\n",
       "<caption>A tibble: 7 × 3</caption>\n",
       "<thead>\n",
       "\t<tr><th scope=col>country_region</th><th scope=col>latitude</th><th scope=col>longitude</th></tr>\n",
       "\t<tr><th scope=col>&lt;chr&gt;</th><th scope=col>&lt;dbl&gt;</th><th scope=col>&lt;dbl&gt;</th></tr>\n",
       "</thead>\n",
       "<tbody>\n",
       "\t<tr><td>Antarctica          </td><td>NA</td><td>NA</td></tr>\n",
       "\t<tr><td>Diamond Princess    </td><td>NA</td><td>NA</td></tr>\n",
       "\t<tr><td>Holy See            </td><td>NA</td><td>NA</td></tr>\n",
       "\t<tr><td>MS Zaandam          </td><td>NA</td><td>NA</td></tr>\n",
       "\t<tr><td>Summer Olympics 2020</td><td>NA</td><td>NA</td></tr>\n",
       "\t<tr><td>West Bank and Gaza  </td><td>NA</td><td>NA</td></tr>\n",
       "\t<tr><td>Winter Olympics 2022</td><td>NA</td><td>NA</td></tr>\n",
       "</tbody>\n",
       "</table>\n"
      ],
      "text/latex": [
       "A tibble: 7 × 3\n",
       "\\begin{tabular}{lll}\n",
       " country\\_region & latitude & longitude\\\\\n",
       " <chr> & <dbl> & <dbl>\\\\\n",
       "\\hline\n",
       "\t Antarctica           & NA & NA\\\\\n",
       "\t Diamond Princess     & NA & NA\\\\\n",
       "\t Holy See             & NA & NA\\\\\n",
       "\t MS Zaandam           & NA & NA\\\\\n",
       "\t Summer Olympics 2020 & NA & NA\\\\\n",
       "\t West Bank and Gaza   & NA & NA\\\\\n",
       "\t Winter Olympics 2022 & NA & NA\\\\\n",
       "\\end{tabular}\n"
      ],
      "text/markdown": [
       "\n",
       "A tibble: 7 × 3\n",
       "\n",
       "| country_region &lt;chr&gt; | latitude &lt;dbl&gt; | longitude &lt;dbl&gt; |\n",
       "|---|---|---|\n",
       "| Antarctica           | NA | NA |\n",
       "| Diamond Princess     | NA | NA |\n",
       "| Holy See             | NA | NA |\n",
       "| MS Zaandam           | NA | NA |\n",
       "| Summer Olympics 2020 | NA | NA |\n",
       "| West Bank and Gaza   | NA | NA |\n",
       "| Winter Olympics 2022 | NA | NA |\n",
       "\n"
      ],
      "text/plain": [
       "  country_region       latitude longitude\n",
       "1 Antarctica           NA       NA       \n",
       "2 Diamond Princess     NA       NA       \n",
       "3 Holy See             NA       NA       \n",
       "4 MS Zaandam           NA       NA       \n",
       "5 Summer Olympics 2020 NA       NA       \n",
       "6 West Bank and Gaza   NA       NA       \n",
       "7 Winter Olympics 2022 NA       NA       "
      ]
     },
     "metadata": {},
     "output_type": "display_data"
    }
   ],
   "source": [
    "lat_longs |> \n",
    "    filter(is.na(latitude))"
   ]
  },
  {
   "cell_type": "code",
   "execution_count": 16,
   "id": "5585676c-4355-4257-a44a-622254e1f0e0",
   "metadata": {},
   "outputs": [
    {
     "name": "stderr",
     "output_type": "stream",
     "text": [
      "Passing 1 address to the Nominatim single address geocoder\n",
      "\n",
      "Query completed in: 1 seconds\n",
      "\n"
     ]
    },
    {
     "data": {
      "text/html": [
       "<table class=\"dataframe\">\n",
       "<caption>A tibble: 1 × 3</caption>\n",
       "<thead>\n",
       "\t<tr><th scope=col>country_region</th><th scope=col>latitude</th><th scope=col>longitude</th></tr>\n",
       "\t<tr><th scope=col>&lt;chr&gt;</th><th scope=col>&lt;dbl&gt;</th><th scope=col>&lt;dbl&gt;</th></tr>\n",
       "</thead>\n",
       "<tbody>\n",
       "\t<tr><td>Antarctica</td><td>-72.84387</td><td>0</td></tr>\n",
       "</tbody>\n",
       "</table>\n"
      ],
      "text/latex": [
       "A tibble: 1 × 3\n",
       "\\begin{tabular}{lll}\n",
       " country\\_region & latitude & longitude\\\\\n",
       " <chr> & <dbl> & <dbl>\\\\\n",
       "\\hline\n",
       "\t Antarctica & -72.84387 & 0\\\\\n",
       "\\end{tabular}\n"
      ],
      "text/markdown": [
       "\n",
       "A tibble: 1 × 3\n",
       "\n",
       "| country_region &lt;chr&gt; | latitude &lt;dbl&gt; | longitude &lt;dbl&gt; |\n",
       "|---|---|---|\n",
       "| Antarctica | -72.84387 | 0 |\n",
       "\n"
      ],
      "text/plain": [
       "  country_region latitude  longitude\n",
       "1 Antarctica     -72.84387 0        "
      ]
     },
     "metadata": {},
     "output_type": "display_data"
    }
   ],
   "source": [
    "# creating a dataframe to find others addresses\n",
    "some_addresses <- tibble::tribble(\n",
    "    ~country_region,                  \n",
    "    \"Antarctica\"                                 \n",
    "    )|> \n",
    "    geocode(address = country_region, method = 'osm', lat = latitude , long = longitude)\n",
    "some_addresses"
   ]
  },
  {
   "cell_type": "code",
   "execution_count": 17,
   "id": "3e58d331-31dd-479e-a9dc-72e70188b182",
   "metadata": {},
   "outputs": [],
   "source": [
    "countries_lat_longs <- lat_longs |> \n",
    "    filter(!is.na(latitude)) |>\n",
    "    bind_rows(some_addresses)"
   ]
  },
  {
   "cell_type": "code",
   "execution_count": 18,
   "id": "ad8792f7-e660-457b-964c-55bff1b0da48",
   "metadata": {},
   "outputs": [
    {
     "data": {
      "text/html": [
       "<table class=\"dataframe\">\n",
       "<caption>A tibble: 6 × 13</caption>\n",
       "<thead>\n",
       "\t<tr><th scope=col>date</th><th scope=col>country_region</th><th scope=col>confirmed</th><th scope=col>recovered</th><th scope=col>deaths</th><th scope=col>daily_confirmed</th><th scope=col>daily_recovered</th><th scope=col>daily_deaths</th><th scope=col>year</th><th scope=col>month</th><th scope=col>day</th><th scope=col>latitude</th><th scope=col>longitude</th></tr>\n",
       "\t<tr><th scope=col>&lt;date&gt;</th><th scope=col>&lt;chr&gt;</th><th scope=col>&lt;dbl&gt;</th><th scope=col>&lt;dbl&gt;</th><th scope=col>&lt;dbl&gt;</th><th scope=col>&lt;dbl&gt;</th><th scope=col>&lt;dbl&gt;</th><th scope=col>&lt;dbl&gt;</th><th scope=col>&lt;dbl&gt;</th><th scope=col>&lt;dbl&gt;</th><th scope=col>&lt;int&gt;</th><th scope=col>&lt;dbl&gt;</th><th scope=col>&lt;dbl&gt;</th></tr>\n",
       "</thead>\n",
       "<tbody>\n",
       "\t<tr><td>2020-01-22</td><td>Afghanistan</td><td>0</td><td>0</td><td>0</td><td>0</td><td>0</td><td>0</td><td>2020</td><td>1</td><td>22</td><td>33.76801</td><td>66.23851</td></tr>\n",
       "\t<tr><td>2020-01-23</td><td>Afghanistan</td><td>0</td><td>0</td><td>0</td><td>0</td><td>0</td><td>0</td><td>2020</td><td>1</td><td>23</td><td>33.76801</td><td>66.23851</td></tr>\n",
       "\t<tr><td>2020-01-24</td><td>Afghanistan</td><td>0</td><td>0</td><td>0</td><td>0</td><td>0</td><td>0</td><td>2020</td><td>1</td><td>24</td><td>33.76801</td><td>66.23851</td></tr>\n",
       "\t<tr><td>2020-01-25</td><td>Afghanistan</td><td>0</td><td>0</td><td>0</td><td>0</td><td>0</td><td>0</td><td>2020</td><td>1</td><td>25</td><td>33.76801</td><td>66.23851</td></tr>\n",
       "\t<tr><td>2020-01-26</td><td>Afghanistan</td><td>0</td><td>0</td><td>0</td><td>0</td><td>0</td><td>0</td><td>2020</td><td>1</td><td>26</td><td>33.76801</td><td>66.23851</td></tr>\n",
       "\t<tr><td>2020-01-27</td><td>Afghanistan</td><td>0</td><td>0</td><td>0</td><td>0</td><td>0</td><td>0</td><td>2020</td><td>1</td><td>27</td><td>33.76801</td><td>66.23851</td></tr>\n",
       "</tbody>\n",
       "</table>\n"
      ],
      "text/latex": [
       "A tibble: 6 × 13\n",
       "\\begin{tabular}{lllllllllllll}\n",
       " date & country\\_region & confirmed & recovered & deaths & daily\\_confirmed & daily\\_recovered & daily\\_deaths & year & month & day & latitude & longitude\\\\\n",
       " <date> & <chr> & <dbl> & <dbl> & <dbl> & <dbl> & <dbl> & <dbl> & <dbl> & <dbl> & <int> & <dbl> & <dbl>\\\\\n",
       "\\hline\n",
       "\t 2020-01-22 & Afghanistan & 0 & 0 & 0 & 0 & 0 & 0 & 2020 & 1 & 22 & 33.76801 & 66.23851\\\\\n",
       "\t 2020-01-23 & Afghanistan & 0 & 0 & 0 & 0 & 0 & 0 & 2020 & 1 & 23 & 33.76801 & 66.23851\\\\\n",
       "\t 2020-01-24 & Afghanistan & 0 & 0 & 0 & 0 & 0 & 0 & 2020 & 1 & 24 & 33.76801 & 66.23851\\\\\n",
       "\t 2020-01-25 & Afghanistan & 0 & 0 & 0 & 0 & 0 & 0 & 2020 & 1 & 25 & 33.76801 & 66.23851\\\\\n",
       "\t 2020-01-26 & Afghanistan & 0 & 0 & 0 & 0 & 0 & 0 & 2020 & 1 & 26 & 33.76801 & 66.23851\\\\\n",
       "\t 2020-01-27 & Afghanistan & 0 & 0 & 0 & 0 & 0 & 0 & 2020 & 1 & 27 & 33.76801 & 66.23851\\\\\n",
       "\\end{tabular}\n"
      ],
      "text/markdown": [
       "\n",
       "A tibble: 6 × 13\n",
       "\n",
       "| date &lt;date&gt; | country_region &lt;chr&gt; | confirmed &lt;dbl&gt; | recovered &lt;dbl&gt; | deaths &lt;dbl&gt; | daily_confirmed &lt;dbl&gt; | daily_recovered &lt;dbl&gt; | daily_deaths &lt;dbl&gt; | year &lt;dbl&gt; | month &lt;dbl&gt; | day &lt;int&gt; | latitude &lt;dbl&gt; | longitude &lt;dbl&gt; |\n",
       "|---|---|---|---|---|---|---|---|---|---|---|---|---|\n",
       "| 2020-01-22 | Afghanistan | 0 | 0 | 0 | 0 | 0 | 0 | 2020 | 1 | 22 | 33.76801 | 66.23851 |\n",
       "| 2020-01-23 | Afghanistan | 0 | 0 | 0 | 0 | 0 | 0 | 2020 | 1 | 23 | 33.76801 | 66.23851 |\n",
       "| 2020-01-24 | Afghanistan | 0 | 0 | 0 | 0 | 0 | 0 | 2020 | 1 | 24 | 33.76801 | 66.23851 |\n",
       "| 2020-01-25 | Afghanistan | 0 | 0 | 0 | 0 | 0 | 0 | 2020 | 1 | 25 | 33.76801 | 66.23851 |\n",
       "| 2020-01-26 | Afghanistan | 0 | 0 | 0 | 0 | 0 | 0 | 2020 | 1 | 26 | 33.76801 | 66.23851 |\n",
       "| 2020-01-27 | Afghanistan | 0 | 0 | 0 | 0 | 0 | 0 | 2020 | 1 | 27 | 33.76801 | 66.23851 |\n",
       "\n"
      ],
      "text/plain": [
       "  date       country_region confirmed recovered deaths daily_confirmed\n",
       "1 2020-01-22 Afghanistan    0         0         0      0              \n",
       "2 2020-01-23 Afghanistan    0         0         0      0              \n",
       "3 2020-01-24 Afghanistan    0         0         0      0              \n",
       "4 2020-01-25 Afghanistan    0         0         0      0              \n",
       "5 2020-01-26 Afghanistan    0         0         0      0              \n",
       "6 2020-01-27 Afghanistan    0         0         0      0              \n",
       "  daily_recovered daily_deaths year month day latitude longitude\n",
       "1 0               0            2020 1     22  33.76801 66.23851 \n",
       "2 0               0            2020 1     23  33.76801 66.23851 \n",
       "3 0               0            2020 1     24  33.76801 66.23851 \n",
       "4 0               0            2020 1     25  33.76801 66.23851 \n",
       "5 0               0            2020 1     26  33.76801 66.23851 \n",
       "6 0               0            2020 1     27  33.76801 66.23851 "
      ]
     },
     "metadata": {},
     "output_type": "display_data"
    }
   ],
   "source": [
    "covid_by_country_region <- covid_by_country_region |> \n",
    "    left_join(countries_lat_longs, by = \"country_region\")\n",
    "head(covid_by_country_region)"
   ]
  },
  {
   "cell_type": "code",
   "execution_count": 19,
   "id": "71dd0cbe-4bd5-4975-af25-517136b8ffc6",
   "metadata": {},
   "outputs": [
    {
     "data": {
      "text/html": [
       "<table class=\"dataframe\">\n",
       "<caption>A tibble: 6 × 1</caption>\n",
       "<thead>\n",
       "\t<tr><th scope=col>country_region</th></tr>\n",
       "\t<tr><th scope=col>&lt;chr&gt;</th></tr>\n",
       "</thead>\n",
       "<tbody>\n",
       "\t<tr><td>Diamond Princess    </td></tr>\n",
       "\t<tr><td>Holy See            </td></tr>\n",
       "\t<tr><td>MS Zaandam          </td></tr>\n",
       "\t<tr><td>Summer Olympics 2020</td></tr>\n",
       "\t<tr><td>West Bank and Gaza  </td></tr>\n",
       "\t<tr><td>Winter Olympics 2022</td></tr>\n",
       "</tbody>\n",
       "</table>\n"
      ],
      "text/latex": [
       "A tibble: 6 × 1\n",
       "\\begin{tabular}{l}\n",
       " country\\_region\\\\\n",
       " <chr>\\\\\n",
       "\\hline\n",
       "\t Diamond Princess    \\\\\n",
       "\t Holy See            \\\\\n",
       "\t MS Zaandam          \\\\\n",
       "\t Summer Olympics 2020\\\\\n",
       "\t West Bank and Gaza  \\\\\n",
       "\t Winter Olympics 2022\\\\\n",
       "\\end{tabular}\n"
      ],
      "text/markdown": [
       "\n",
       "A tibble: 6 × 1\n",
       "\n",
       "| country_region &lt;chr&gt; |\n",
       "|---|\n",
       "| Diamond Princess     |\n",
       "| Holy See             |\n",
       "| MS Zaandam           |\n",
       "| Summer Olympics 2020 |\n",
       "| West Bank and Gaza   |\n",
       "| Winter Olympics 2022 |\n",
       "\n"
      ],
      "text/plain": [
       "  country_region      \n",
       "1 Diamond Princess    \n",
       "2 Holy See            \n",
       "3 MS Zaandam          \n",
       "4 Summer Olympics 2020\n",
       "5 West Bank and Gaza  \n",
       "6 Winter Olympics 2022"
      ]
     },
     "metadata": {},
     "output_type": "display_data"
    }
   ],
   "source": [
    "# Lets remove the data points which are not a country\n",
    "# these are the ones \n",
    "covid_by_country_region |> \n",
    "    filter(is.na(latitude)) |> \n",
    "    select(country_region) |> \n",
    "    unique()"
   ]
  },
  {
   "cell_type": "code",
   "execution_count": 20,
   "id": "4ec98276-4f48-451d-a548-a6119e0556dc",
   "metadata": {},
   "outputs": [
    {
     "data": {
      "text/html": [
       "<table class=\"dataframe\">\n",
       "<caption>A tibble: 6 × 11</caption>\n",
       "<thead>\n",
       "\t<tr><th scope=col>date</th><th scope=col>country_region</th><th scope=col>confirmed</th><th scope=col>daily_confirmed</th><th scope=col>recovered</th><th scope=col>daily_recovered</th><th scope=col>deaths</th><th scope=col>daily_deaths</th><th scope=col>year</th><th scope=col>month</th><th scope=col>day</th></tr>\n",
       "\t<tr><th scope=col>&lt;date&gt;</th><th scope=col>&lt;chr&gt;</th><th scope=col>&lt;dbl&gt;</th><th scope=col>&lt;dbl&gt;</th><th scope=col>&lt;dbl&gt;</th><th scope=col>&lt;dbl&gt;</th><th scope=col>&lt;dbl&gt;</th><th scope=col>&lt;dbl&gt;</th><th scope=col>&lt;dbl&gt;</th><th scope=col>&lt;dbl&gt;</th><th scope=col>&lt;int&gt;</th></tr>\n",
       "</thead>\n",
       "<tbody>\n",
       "\t<tr><td>2020-01-22</td><td>Afghanistan</td><td>0</td><td>0</td><td>0</td><td>0</td><td>0</td><td>0</td><td>2020</td><td>1</td><td>22</td></tr>\n",
       "\t<tr><td>2020-01-23</td><td>Afghanistan</td><td>0</td><td>0</td><td>0</td><td>0</td><td>0</td><td>0</td><td>2020</td><td>1</td><td>23</td></tr>\n",
       "\t<tr><td>2020-01-24</td><td>Afghanistan</td><td>0</td><td>0</td><td>0</td><td>0</td><td>0</td><td>0</td><td>2020</td><td>1</td><td>24</td></tr>\n",
       "\t<tr><td>2020-01-25</td><td>Afghanistan</td><td>0</td><td>0</td><td>0</td><td>0</td><td>0</td><td>0</td><td>2020</td><td>1</td><td>25</td></tr>\n",
       "\t<tr><td>2020-01-26</td><td>Afghanistan</td><td>0</td><td>0</td><td>0</td><td>0</td><td>0</td><td>0</td><td>2020</td><td>1</td><td>26</td></tr>\n",
       "\t<tr><td>2020-01-27</td><td>Afghanistan</td><td>0</td><td>0</td><td>0</td><td>0</td><td>0</td><td>0</td><td>2020</td><td>1</td><td>27</td></tr>\n",
       "</tbody>\n",
       "</table>\n"
      ],
      "text/latex": [
       "A tibble: 6 × 11\n",
       "\\begin{tabular}{lllllllllll}\n",
       " date & country\\_region & confirmed & daily\\_confirmed & recovered & daily\\_recovered & deaths & daily\\_deaths & year & month & day\\\\\n",
       " <date> & <chr> & <dbl> & <dbl> & <dbl> & <dbl> & <dbl> & <dbl> & <dbl> & <dbl> & <int>\\\\\n",
       "\\hline\n",
       "\t 2020-01-22 & Afghanistan & 0 & 0 & 0 & 0 & 0 & 0 & 2020 & 1 & 22\\\\\n",
       "\t 2020-01-23 & Afghanistan & 0 & 0 & 0 & 0 & 0 & 0 & 2020 & 1 & 23\\\\\n",
       "\t 2020-01-24 & Afghanistan & 0 & 0 & 0 & 0 & 0 & 0 & 2020 & 1 & 24\\\\\n",
       "\t 2020-01-25 & Afghanistan & 0 & 0 & 0 & 0 & 0 & 0 & 2020 & 1 & 25\\\\\n",
       "\t 2020-01-26 & Afghanistan & 0 & 0 & 0 & 0 & 0 & 0 & 2020 & 1 & 26\\\\\n",
       "\t 2020-01-27 & Afghanistan & 0 & 0 & 0 & 0 & 0 & 0 & 2020 & 1 & 27\\\\\n",
       "\\end{tabular}\n"
      ],
      "text/markdown": [
       "\n",
       "A tibble: 6 × 11\n",
       "\n",
       "| date &lt;date&gt; | country_region &lt;chr&gt; | confirmed &lt;dbl&gt; | daily_confirmed &lt;dbl&gt; | recovered &lt;dbl&gt; | daily_recovered &lt;dbl&gt; | deaths &lt;dbl&gt; | daily_deaths &lt;dbl&gt; | year &lt;dbl&gt; | month &lt;dbl&gt; | day &lt;int&gt; |\n",
       "|---|---|---|---|---|---|---|---|---|---|---|\n",
       "| 2020-01-22 | Afghanistan | 0 | 0 | 0 | 0 | 0 | 0 | 2020 | 1 | 22 |\n",
       "| 2020-01-23 | Afghanistan | 0 | 0 | 0 | 0 | 0 | 0 | 2020 | 1 | 23 |\n",
       "| 2020-01-24 | Afghanistan | 0 | 0 | 0 | 0 | 0 | 0 | 2020 | 1 | 24 |\n",
       "| 2020-01-25 | Afghanistan | 0 | 0 | 0 | 0 | 0 | 0 | 2020 | 1 | 25 |\n",
       "| 2020-01-26 | Afghanistan | 0 | 0 | 0 | 0 | 0 | 0 | 2020 | 1 | 26 |\n",
       "| 2020-01-27 | Afghanistan | 0 | 0 | 0 | 0 | 0 | 0 | 2020 | 1 | 27 |\n",
       "\n"
      ],
      "text/plain": [
       "  date       country_region confirmed daily_confirmed recovered daily_recovered\n",
       "1 2020-01-22 Afghanistan    0         0               0         0              \n",
       "2 2020-01-23 Afghanistan    0         0               0         0              \n",
       "3 2020-01-24 Afghanistan    0         0               0         0              \n",
       "4 2020-01-25 Afghanistan    0         0               0         0              \n",
       "5 2020-01-26 Afghanistan    0         0               0         0              \n",
       "6 2020-01-27 Afghanistan    0         0               0         0              \n",
       "  deaths daily_deaths year month day\n",
       "1 0      0            2020 1     22 \n",
       "2 0      0            2020 1     23 \n",
       "3 0      0            2020 1     24 \n",
       "4 0      0            2020 1     25 \n",
       "5 0      0            2020 1     26 \n",
       "6 0      0            2020 1     27 "
      ]
     },
     "metadata": {},
     "output_type": "display_data"
    }
   ],
   "source": [
    "# Creating the country dataset and arranging the column\n",
    "covid_by_country <- covid_by_country_region |> \n",
    "    filter(!is.na(latitude)) |> \n",
    "    select(date, country_region, confirmed, daily_confirmed, recovered, daily_recovered, deaths, daily_deaths, year, month, day)\n",
    "head(covid_by_country)"
   ]
  },
  {
   "cell_type": "markdown",
   "id": "f05ad1ee-4b38-4805-8c25-b95b238360cd",
   "metadata": {},
   "source": [
    "### 4. Saving the Processed Data"
   ]
  },
  {
   "cell_type": "code",
   "execution_count": 22,
   "id": "66ea3951-77aa-4d98-a5de-72ad179b1aa1",
   "metadata": {},
   "outputs": [],
   "source": [
    "# Sometimes we have large dataset, lets use our example to use arrow package to save the data in partitions in a parquet format\n",
    "# Let's partition the data using the variables year, month, and day\n",
    "\n",
    "write_dataset(\n",
    "    covid_by_country, \n",
    "    path = \"../data/enriched/covid\", \n",
    "    format = \"parquet\", \n",
    "    partitioning = c(\"year\",\"month\",\"day\")\n",
    ")"
   ]
  },
  {
   "cell_type": "markdown",
   "id": "da43a6fa-a860-4789-9461-03be9677f203",
   "metadata": {},
   "source": [
    "### 5. Next Steps\n",
    "\n",
    "Here are some potential analyses we could conduct with our data:\n",
    "\n",
    "1. **Detailed Descriptive Analysis**\n",
    "   - Conduct a more in-depth descriptive analysis of the COVID-19 data. This can include calculating key metrics such as daily growth rates, moving averages of new cases, and death-to-recovery ratios. Additional visualizations like histograms, box plots, and heatmaps can further explore trends and distributions across different time periods and regions.\n",
    "\n",
    "3. **Time Series Analysis**\n",
    "   - Explore time series models to analyze trends in COVID-19 case numbers, recoveries, and fatalities over time. Techniques such as ARIMA or Prophet could be used to model and forecast future case counts based on historical data.\n",
    "\n",
    "4. **Geospatial Analysis**\n",
    "   - Perform a geospatial analysis to map the distribution of COVID-19 cases by region or country. Using maps and clustering techniques, it’s possible to identify spatial patterns or regional hotspots, providing insights into geographic spread."
   ]
  }
 ],
 "metadata": {
  "kernelspec": {
   "display_name": "R",
   "language": "R",
   "name": "ir"
  },
  "language_info": {
   "codemirror_mode": "r",
   "file_extension": ".r",
   "mimetype": "text/x-r-source",
   "name": "R",
   "pygments_lexer": "r",
   "version": "4.4.0"
  }
 },
 "nbformat": 4,
 "nbformat_minor": 5
}
